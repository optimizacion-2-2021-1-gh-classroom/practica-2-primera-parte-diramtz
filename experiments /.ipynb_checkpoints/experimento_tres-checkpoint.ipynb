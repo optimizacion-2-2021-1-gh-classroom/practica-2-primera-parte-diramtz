{
 "cells": [
  {
   "cell_type": "code",
   "execution_count": 9,
   "metadata": {
    "tags": [
     "block:import_packages"
    ]
   },
   "outputs": [],
   "source": [
    "import ffmaxflow as ff\n",
    "import networkx as nx\n",
    "import matplotlib.pyplot as plt\n",
    "from IPython.display import Image"
   ]
  },
  {
   "cell_type": "code",
   "execution_count": 10,
   "metadata": {
    "tags": [
     "block:graph",
     "prev:import_packages"
    ]
   },
   "outputs": [
    {
     "data": {
      "image/png": "[encoded data removed]",
      "text/plain": [
       "<Figure size 648x504 with 1 Axes>"
      ]
     },
     "metadata": {},
     "output_type": "display_data"
    }
   ],
   "source": [
    "nodes_pos_ex_2 = [[0.09090909090909091, 0.5454545454545454],\n",
    "                  [0.2727272727272727, 0.7272727272727273],\n",
    "                  [0.2727272727272727, 0.2727272727272727],\n",
    "                  [0.5454545454545454, 0.54545454]]\n",
    "nodes = range(len(nodes_pos_ex_2))\n",
    "G_ex_2 = nx.Graph() \n",
    "G_ex_2.add_nodes_from(nodes)\n",
    "edge_labels = {(0,1): 1222,\n",
    "               (0,2): 900,\n",
    "               (1,2): 550,\n",
    "               (1,3): 432,\n",
    "               (2,3): 754\n",
    "              }    \n",
    "G_ex_2.add_edges_from(edge_labels)\n",
    "for e in G_ex_2.edges():\n",
    "    try:\n",
    "        G_ex_2[e[0]][e[1]][\"weight\"] = edge_labels[e]\n",
    "    except:\n",
    "        G_ex_2[e[1]][e[0]][\"weight\"] = edge_labels[(e[1],e[0])]\n",
    "plt.figure(figsize=(9,7))\n",
    "nx.draw_networkx_edges(G_ex_2, pos=nodes_pos_ex_2, \n",
    "                       alpha=0.3, min_source_margin=8, \n",
    "                       min_target_margin=8)\n",
    "nx.draw_networkx_edge_labels(G_ex_2, pos=nodes_pos_ex_2, \n",
    "                             edge_labels = edge_labels,\n",
    "                             font_size=15)\n",
    "nx.draw_networkx_labels(G_ex_2, pos=nodes_pos_ex_2)\n",
    "nx.draw_networkx_nodes(G_ex_2, pos=nodes_pos_ex_2, node_size=1000, alpha=0.6)\n",
    "plt.axis(\"off\")\n",
    "plt.show()"
   ]
  },
  {
   "cell_type": "code",
   "execution_count": 11,
   "metadata": {
    "tags": [
     "block:declare_network",
     "prev:import_packages"
    ]
   },
   "outputs": [],
   "source": [
    "red_3 = ff.create_flow_network()"
   ]
  },
  {
   "cell_type": "code",
   "execution_count": 12,
   "metadata": {
    "tags": [
     "block:creat_vertex",
     "prev:declare_network"
    ]
   },
   "outputs": [],
   "source": [
    "red_3.create_vertex('0', True, False) # Nodo origen\n",
    "red_3.create_vertex('3', False, True) # Nodo destino\n",
    "red_3.create_vertex('1', False, False)# Nodos intermedios\n",
    "red_3.create_vertex('2', False, False)"
   ]
  },
  {
   "cell_type": "code",
   "execution_count": 13,
   "metadata": {
    "tags": [
     "block:create_edge",
     "prev:declare_network"
    ]
   },
   "outputs": [],
   "source": [
    "red_3.create_edge('0', '1', 1222)\n",
    "red_3.create_edge('0', '2', 900)\n",
    "\n",
    "red_3.create_edge('1', '2', 550)\n",
    "red_3.create_edge('1', '3', 432)\n",
    "\n",
    "red_3.create_edge('2', '3', 754)"
   ]
  },
  {
   "cell_type": "code",
   "execution_count": 14,
   "metadata": {
    "tags": [
     "block:max_flow",
     "prev:creat_vertex",
     "prev:create_edge"
    ]
   },
   "outputs": [],
   "source": [
    "value = red_3.MaxFlow()"
   ]
  },
  {
   "cell_type": "code",
   "execution_count": 15,
   "metadata": {
    "tags": [
     "block:result",
     "prev:max_flow"
    ]
   },
   "outputs": [
    {
     "data": {
      "text/plain": [
       "1186"
      ]
     },
     "execution_count": 15,
     "metadata": {},
     "output_type": "execute_result"
    }
   ],
   "source": [
    "value"
   ]
  },
  {
   "cell_type": "code",
   "execution_count": null,
   "metadata": {
    "tags": []
   },
   "outputs": [],
   "source": []
  }
 ],
 "metadata": {
  "kernelspec": {
   "display_name": "Python 3",
   "language": "python",
   "name": "python3"
  },
  "kubeflow_notebook": {
   "autosnapshot": false,
   "docker_image": "diramtz/pkg2:0.1",
   "experiment": {
    "id": "",
    "name": ""
   },
   "experiment_name": "",
   "katib_metadata": {
    "algorithm": {
     "algorithmName": "grid"
    },
    "maxFailedTrialCount": 3,
    "maxTrialCount": 12,
    "objective": {
     "objectiveMetricName": "",
     "type": "minimize"
    },
    "parallelTrialCount": 3,
    "parameters": []
   },
   "katib_run": false,
   "pipeline_description": "tercero",
   "pipeline_name": "tercero",
   "snapshot_volumes": false,
   "steps_defaults": [],
   "volume_access_mode": "rwm",
   "volumes": [
    {
     "annotations": [],
     "mount_point": "/shared_volume",
     "name": "hostpath-pvc",
     "size": 1,
     "size_type": "Gi",
     "snapshot": false,
     "snapshot_name": "",
     "type": "pvc"
    }
   ]
  },
  "language_info": {
   "codemirror_mode": {
    "name": "ipython",
    "version": 3
   },
   "file_extension": ".py",
   "mimetype": "text/x-python",
   "name": "python",
   "nbconvert_exporter": "python",
   "pygments_lexer": "ipython3",
   "version": "3.6.9"
  }
 },
 "nbformat": 4,
 "nbformat_minor": 4
}
